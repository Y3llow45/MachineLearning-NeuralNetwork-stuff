{
 "cells": [
  {
   "cell_type": "code",
   "execution_count": null,
   "id": "4537c841-0e72-4e02-bb54-831d0d61f839",
   "metadata": {},
   "outputs": [],
   "source": []
  }
 ],
 "metadata": {
  "kernelspec": {
   "display_name": "",
   "name": ""
  },
  "language_info": {
   "name": ""
  }
 },
 "nbformat": 4,
 "nbformat_minor": 5
}
